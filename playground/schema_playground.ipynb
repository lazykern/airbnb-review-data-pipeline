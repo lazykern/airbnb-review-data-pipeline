{
 "cells": [
  {
   "cell_type": "code",
   "execution_count": 3,
   "metadata": {},
   "outputs": [],
   "source": [
    "from confluent_kafka import SerializingProducer\n",
    "from confluent_kafka.schema_registry import SchemaRegistryClient\n",
    "from confluent_kafka.schema_registry.avro import AvroSerializer\n",
    "from pathlib import Path\n",
    "import polars as pl\n",
    "import socket"
   ]
  },
  {
   "cell_type": "code",
   "execution_count": 4,
   "metadata": {},
   "outputs": [],
   "source": [
    "KAFKA_BOOTSTRAP_SERVERS = 'localhost:9092'\n",
    "SCHEMA_REGISTRY_URL = 'http://localhost:8099'\n",
    "TOPIC = \"avro-schema-test\"\n",
    "VALUE_SCHEMA_SUBJECT = TOPIC + \"-value\""
   ]
  },
  {
   "cell_type": "code",
   "execution_count": 5,
   "metadata": {},
   "outputs": [],
   "source": [
    "data_path = Path(\"../data\")\n",
    "reviews_df = pl.read_csv(data_path / \"reviews\" / \"reviews.csv\")"
   ]
  },
  {
   "cell_type": "code",
   "execution_count": 6,
   "metadata": {},
   "outputs": [],
   "source": [
    "schema_registry_client = SchemaRegistryClient({\n",
    "    \"url\": SCHEMA_REGISTRY_URL\n",
    "})"
   ]
  },
  {
   "cell_type": "code",
   "execution_count": 7,
   "metadata": {},
   "outputs": [],
   "source": [
    "avro_schema = schema_registry_client.get_latest_version(VALUE_SCHEMA_SUBJECT).schema\n",
    "\n",
    "avro_value_ser = AvroSerializer(\n",
    "    schema_registry_client=schema_registry_client,\n",
    "    schema_str = avro_schema.schema_str,\n",
    "    conf = {\n",
    "        'auto.register.schemas': False\n",
    "    }\n",
    ")"
   ]
  },
  {
   "cell_type": "code",
   "execution_count": 8,
   "metadata": {},
   "outputs": [],
   "source": [
    "producer_conf = {\n",
    "    'bootstrap.servers': KAFKA_BOOTSTRAP_SERVERS,\n",
    "    'client.id': socket.gethostname(),\n",
    "    'value.serializer': avro_value_ser\n",
    "}\n",
    "\n",
    "producer = SerializingProducer(producer_conf)"
   ]
  },
  {
   "cell_type": "code",
   "execution_count": 16,
   "metadata": {},
   "outputs": [],
   "source": [
    "i = 0\n",
    "for row in reviews_df.iter_rows(named=True):\n",
    "    producer.produce(topic=TOPIC, value=row)\n",
    "    producer.poll(0)\n",
    "    i += 1\n",
    "    if i == 5:\n",
    "        break"
   ]
  }
 ],
 "metadata": {
  "kernelspec": {
   "display_name": "airbnb",
   "language": "python",
   "name": "python3"
  },
  "language_info": {
   "codemirror_mode": {
    "name": "ipython",
    "version": 3
   },
   "file_extension": ".py",
   "mimetype": "text/x-python",
   "name": "python",
   "nbconvert_exporter": "python",
   "pygments_lexer": "ipython3",
   "version": "3.12.0"
  }
 },
 "nbformat": 4,
 "nbformat_minor": 2
}
